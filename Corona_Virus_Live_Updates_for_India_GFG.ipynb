{
  "nbformat": 4,
  "nbformat_minor": 0,
  "metadata": {
    "colab": {
      "name": "Corona Virus Live Updates for India  GFG.ipynb",
      "provenance": [],
      "collapsed_sections": []
    },
    "kernelspec": {
      "name": "python3",
      "display_name": "Python 3"
    }
  },
  "cells": [
    {
      "cell_type": "code",
      "metadata": {
        "id": "PGYIcKC3rUuP",
        "colab_type": "code",
        "colab": {
          "base_uri": "https://localhost:8080/",
          "height": 74
        },
        "outputId": "d3a70916-ff45-489f-91ee-6d40668f0c99"
      },
      "source": [
        "!pip install bs4"
      ],
      "execution_count": 13,
      "outputs": [
        {
          "output_type": "stream",
          "text": [
            "Requirement already satisfied: bs4 in /usr/local/lib/python3.6/dist-packages (0.0.1)\n",
            "Requirement already satisfied: beautifulsoup4 in /usr/local/lib/python3.6/dist-packages (from bs4) (4.6.3)\n"
          ],
          "name": "stdout"
        }
      ]
    },
    {
      "cell_type": "code",
      "metadata": {
        "id": "Pz7YPuWoraye",
        "colab_type": "code",
        "colab": {
          "base_uri": "https://localhost:8080/",
          "height": 222
        },
        "outputId": "e30cd799-eafc-4bab-afca-a2c0be8e0200"
      },
      "source": [
        "!pip install tabulate\n",
        "!pip install matplotlib\n",
        "!pip install numpy"
      ],
      "execution_count": 14,
      "outputs": [
        {
          "output_type": "stream",
          "text": [
            "Requirement already satisfied: tabulate in /usr/local/lib/python3.6/dist-packages (0.8.7)\n",
            "Requirement already satisfied: matplotlib in /usr/local/lib/python3.6/dist-packages (3.2.1)\n",
            "Requirement already satisfied: kiwisolver>=1.0.1 in /usr/local/lib/python3.6/dist-packages (from matplotlib) (1.1.0)\n",
            "Requirement already satisfied: numpy>=1.11 in /usr/local/lib/python3.6/dist-packages (from matplotlib) (1.18.2)\n",
            "Requirement already satisfied: python-dateutil>=2.1 in /usr/local/lib/python3.6/dist-packages (from matplotlib) (2.8.1)\n",
            "Requirement already satisfied: cycler>=0.10 in /usr/local/lib/python3.6/dist-packages (from matplotlib) (0.10.0)\n",
            "Requirement already satisfied: pyparsing!=2.0.4,!=2.1.2,!=2.1.6,>=2.0.1 in /usr/local/lib/python3.6/dist-packages (from matplotlib) (2.4.6)\n",
            "Requirement already satisfied: setuptools in /usr/local/lib/python3.6/dist-packages (from kiwisolver>=1.0.1->matplotlib) (46.0.0)\n",
            "Requirement already satisfied: six>=1.5 in /usr/local/lib/python3.6/dist-packages (from python-dateutil>=2.1->matplotlib) (1.12.0)\n",
            "Requirement already satisfied: numpy in /usr/local/lib/python3.6/dist-packages (1.18.2)\n"
          ],
          "name": "stdout"
        }
      ]
    },
    {
      "cell_type": "code",
      "metadata": {
        "id": "nEYLKsYTrkYq",
        "colab_type": "code",
        "colab": {}
      },
      "source": [
        "import requests\n",
        "from bs4 import BeautifulSoup\n",
        "from tabulate import tabulate\n",
        "import os\n",
        "import numpy as np\n",
        "import matplotlib.pyplot as plt\n",
        "%matplotlib inline\n",
        "\n"
      ],
      "execution_count": 0,
      "outputs": []
    },
    {
      "cell_type": "code",
      "metadata": {
        "id": "xJy7xFt0r3p5",
        "colab_type": "code",
        "colab": {}
      },
      "source": [
        "extract_contents = lambda row: [x.text.replace('\\n','') for x in row]\n",
        "URL = 'https://www.mohfw.gov.in/'\n",
        "\n",
        "SHORT_HEADERS = ['SNo', 'State','Indian-Confirmed','Foreign-Confirmed','Cured','Death'] "
      ],
      "execution_count": 0,
      "outputs": []
    },
    {
      "cell_type": "code",
      "metadata": {
        "id": "iDIJx6YMsWGC",
        "colab_type": "code",
        "colab": {}
      },
      "source": [
        "response = requests.get(URL).content\n",
        "soup = BeautifulSoup(response, 'html.parser')\n",
        "header = extract_contents(soup.tr.find_all('th'))\n"
      ],
      "execution_count": 0,
      "outputs": []
    },
    {
      "cell_type": "code",
      "metadata": {
        "id": "m90l4hbRsyfc",
        "colab_type": "code",
        "colab": {}
      },
      "source": [
        "stats = []\n",
        "all_rows = soup.find_all('tr')\n",
        "\n",
        "for row in all_rows:\n",
        "  stat = extract_contents(row.find_all('td'))\n",
        "  if stat:\n",
        "    if len(stat) == 5:\n",
        "      stat = ['', *stat]\n",
        "      stats.append(stat)\n",
        "    elif len(stat) == 6:\n",
        "      stats.append(stat)\n",
        "\n",
        "stats[-1][1] = 'TOtal cases' \n",
        "stats.remove(stats[-1])     \n"
      ],
      "execution_count": 0,
      "outputs": []
    },
    {
      "cell_type": "code",
      "metadata": {
        "id": "9ogSz754ts3f",
        "colab_type": "code",
        "colab": {
          "base_uri": "https://localhost:8080/",
          "height": 54
        },
        "outputId": "be3b7372-2105-4a60-f803-e7db7e2bc835"
      },
      "source": [
        "object = []\n",
        "for row in stats:\n",
        "  object.append(row[1])\n",
        "\n",
        "y_pos = np.arange(len(object))\n",
        "\n",
        "performance= []\n",
        "for row in stats:\n",
        "  performance.append(int(row[2]) +int(row[3]))\n",
        "\n",
        "\n",
        "table = tabulate(states , headers=SHORT_HEADERS)\n",
        "print(table)  "
      ],
      "execution_count": 25,
      "outputs": [
        {
          "output_type": "stream",
          "text": [
            "SNo    State    Indian-Confirmed    Foreign-Confirmed    Cured    Death\n",
            "-----  -------  ------------------  -------------------  -------  -------\n"
          ],
          "name": "stdout"
        }
      ]
    },
    {
      "cell_type": "code",
      "metadata": {
        "id": "94sN5HtTua4H",
        "colab_type": "code",
        "colab": {
          "base_uri": "https://localhost:8080/",
          "height": 295
        },
        "outputId": "7a3c5478-0e7e-48a2-cfb7-cd3eddd3af1f"
      },
      "source": [
        "plt.barh(y_pos, performance, align='center', alpha=0.5, \n",
        "                 color=(234/256.0, 128/256.0, 252/256.0), \n",
        "                 edgecolor=(106/256.0, 27/256.0, 154/256.0)) \n",
        "  \n",
        "plt.yticks(y_pos, object) \n",
        "plt.xlim(1,80) \n",
        "plt.xlabel('Number of Cases') \n",
        "plt.title('Corona Virus Cases') \n",
        "plt.show() \n"
      ],
      "execution_count": 28,
      "outputs": [
        {
          "output_type": "display_data",
          "data": {
            "image/png": "[encoded data removed]",
            "text/plain": [
              "<Figure size 432x288 with 1 Axes>"
            ]
          },
          "metadata": {
            "tags": []
          }
        }
      ]
    },
    {
      "cell_type": "code",
      "metadata": {
        "id": "qybm4OSdvP1e",
        "colab_type": "code",
        "colab": {}
      },
      "source": [
        ""
      ],
      "execution_count": 0,
      "outputs": []
    }
  ]
}